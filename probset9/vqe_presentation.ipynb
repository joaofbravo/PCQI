{
 "cells": [
  {
   "cell_type": "markdown",
   "metadata": {},
   "source": [
    "# Setup"
   ]
  },
  {
   "cell_type": "code",
   "execution_count": 1,
   "metadata": {},
   "outputs": [],
   "source": [
    "import numpy as np\n",
    "\n",
    "%matplotlib inline\n",
    "import matplotlib.pyplot as plt\n",
    "\n",
    "import cirq"
   ]
  },
  {
   "cell_type": "markdown",
   "metadata": {},
   "source": [
    "# Converting from Second Quantization to Pauli Operators"
   ]
  },
  {
   "cell_type": "code",
   "execution_count": 2,
   "metadata": {},
   "outputs": [],
   "source": [
    "from openfermion.ops import FermionOperator\n",
    "from openfermion.utils import hermitian_conjugated\n",
    "from openfermion.transforms import jordan_wigner"
   ]
  },
  {
   "cell_type": "code",
   "execution_count": 3,
   "metadata": {},
   "outputs": [
    {
     "name": "stdout",
     "output_type": "stream",
     "text": [
      "1.0 [0^ 0 1^ 1] +\n",
      "-2.0 [0^ 1] +\n",
      "-2.0 [1^ 0]\n"
     ]
    }
   ],
   "source": [
    "t = 2.\n",
    "U = 1.\n",
    "\n",
    "t_term = FermionOperator('1^ 0', -t)\n",
    "t_term += hermitian_conjugated(t_term)\n",
    "\n",
    "U_term = FermionOperator('0^ 0 1^ 1', U)\n",
    "\n",
    "hamiltonian = t_term + U_term\n",
    "\n",
    "print(hamiltonian)"
   ]
  },
  {
   "cell_type": "code",
   "execution_count": 4,
   "metadata": {},
   "outputs": [
    {
     "name": "stdout",
     "output_type": "stream",
     "text": [
      "0.25 [] +\n",
      "-1.0 [X0 X1] +\n",
      "-1.0 [Y0 Y1] +\n",
      "-0.25 [Z0] +\n",
      "0.25 [Z0 Z1] +\n",
      "-0.25 [Z1]\n"
     ]
    }
   ],
   "source": [
    "transformed_hamiltonian = jordan_wigner(hamiltonian)\n",
    "transformed_hamiltonian.compress()\n",
    "\n",
    "print(transformed_hamiltonian)"
   ]
  },
  {
   "cell_type": "markdown",
   "metadata": {},
   "source": [
    "# Creating the Ansatz Circuit"
   ]
  },
  {
   "cell_type": "code",
   "execution_count": 5,
   "metadata": {},
   "outputs": [],
   "source": [
    "def full_circuit(alpha,beta,key,show=False):\n",
    "    \n",
    "    # 2 qubits\n",
    "    qb = [cirq.LineQubit(i) for i in range(2)]\n",
    "    \n",
    "    # This is the basic part of the circuit\n",
    "    circuit = cirq.Circuit()\n",
    "    circuit.append(cirq.Y(qb[0])**alpha)\n",
    "    circuit.append(cirq.X(qb[1])**beta, strategy=cirq.InsertStrategy.EARLIEST)\n",
    "    circuit.append(cirq.CNOT(qb[0],qb[1]))\n",
    "    \n",
    "    # For some parts you have to change the measurement basis\n",
    "    if 'X0' in key:\n",
    "        circuit.append(cirq.H(qb[0]))\n",
    "    elif 'Y0' in key:\n",
    "        circuit.append(cirq.S(qb[0])**-1)\n",
    "        circuit.append(cirq.H(qb[0]))\n",
    "    if 'X1' in key:\n",
    "        circuit.append(cirq.H(qb[1]), strategy=cirq.InsertStrategy.EARLIEST)\n",
    "    elif 'Y1' in key:\n",
    "        circuit.append(cirq.S(qb[1])**-1, strategy=cirq.InsertStrategy.EARLIEST)\n",
    "        circuit.append(cirq.H(qb[1]), strategy=cirq.InsertStrategy.EARLIEST)\n",
    "        \n",
    "    circuit.append(cirq.measure(*qb, key=key))       \n",
    "    return circuit"
   ]
  },
  {
   "cell_type": "code",
   "execution_count": 6,
   "metadata": {},
   "outputs": [
    {
     "data": {
      "text/html": [
       "<pre style=\"overflow: auto; white-space: pre;\">0: ───Y^0.3───@───M('')───\n",
       "              │   │\n",
       "1: ───X^0.2───X───M───────</pre>"
      ],
      "text/plain": [
       "0: ───Y^0.3───@───M('')───\n",
       "              │   │\n",
       "1: ───X^0.2───X───M───────"
      ]
     },
     "execution_count": 6,
     "metadata": {},
     "output_type": "execute_result"
    }
   ],
   "source": [
    "full_circuit(0.3,0.2,'',show=True)"
   ]
  },
  {
   "cell_type": "markdown",
   "metadata": {},
   "source": [
    "# Expectation Value of one Pauli term, for one Measurement"
   ]
  },
  {
   "cell_type": "code",
   "execution_count": 7,
   "metadata": {},
   "outputs": [],
   "source": [
    "def energy_func(key):\n",
    "    \n",
    "    def energy(measurements):\n",
    "        # Convert true/false to +1/-1.\n",
    "        pm_meas = 1 - 2 * np.array(measurements).astype(np.int32)\n",
    "        \n",
    "        # Calculate the expectation value of one Pauli term and multiply by the coefficient,\n",
    "        # for one measurement result\n",
    "        if key is '':\n",
    "            coeff = transformed_hamiltonian.terms[()]\n",
    "            tot_energy = coeff\n",
    "        elif key is 'Z0':\n",
    "            coeff = transformed_hamiltonian.terms[((0, 'Z'),)]\n",
    "            tot_energy = coeff * pm_meas[0]\n",
    "        elif key is 'Z1':\n",
    "            coeff = transformed_hamiltonian.terms[((1, 'Z'),)]\n",
    "            tot_energy = coeff * pm_meas[1]\n",
    "        elif key is 'Z0Z1':\n",
    "            coeff = transformed_hamiltonian.terms[((0, 'Z'), (1, 'Z'))]\n",
    "            tot_energy = coeff * pm_meas[0] * pm_meas[1]\n",
    "        elif key is 'X0X1':\n",
    "            coeff = transformed_hamiltonian.terms[((0, 'X'), (1, 'X'))]\n",
    "            tot_energy = coeff * pm_meas[0] * pm_meas[1]\n",
    "        elif key is 'Y0Y1':\n",
    "            coeff = transformed_hamiltonian.terms[((0, 'Y'), (1, 'Y'))]\n",
    "            tot_energy = coeff * pm_meas[0] * pm_meas[1]\n",
    "        return tot_energy\n",
    "    \n",
    "    return energy"
   ]
  },
  {
   "cell_type": "markdown",
   "metadata": {},
   "source": [
    "# Expectation Value of one Pauli term, for all Measurements"
   ]
  },
  {
   "cell_type": "code",
   "execution_count": 8,
   "metadata": {},
   "outputs": [],
   "source": [
    "# Get the expectation value of one Pauli term \n",
    "# in the Hamiltonian, considering all the measurements.\n",
    "\n",
    "def obj_func(result, key, show=False):\n",
    "    energy_hist = result.histogram(key=key, fold_func=energy_func(key))\n",
    "    val = np.sum([k * v for k,v in energy_hist.items()]) / result.repetitions\n",
    "    if show:\n",
    "        print('Energy from',key,val) \n",
    "    return val"
   ]
  },
  {
   "cell_type": "markdown",
   "metadata": {},
   "source": [
    "# Expectation Value of the Full Hamiltonian &rarr; Energy "
   ]
  },
  {
   "cell_type": "code",
   "execution_count": 9,
   "metadata": {},
   "outputs": [],
   "source": [
    "# Simulate the circuits for all the Pauli terms, \n",
    "# and obtain the final estimate of the energy.\n",
    "\n",
    "def full_energy(alpha, beta, show=False):\n",
    "    energy = 0.\n",
    "    simulator = cirq.Simulator()\n",
    "    for key in ['','Z0','Z1','Z0Z1','X0X1','Y0Y1']:\n",
    "        results = simulator.run(full_circuit(alpha, beta, key, show=show), repetitions=1024)\n",
    "        if show:\n",
    "            print(key,'\\t', results.histogram(key=key))\n",
    "        energy += obj_func(results,key, show=show)\n",
    "    if show:\n",
    "        print('Energy:', energy)\n",
    "    return energy"
   ]
  },
  {
   "cell_type": "code",
   "execution_count": 10,
   "metadata": {},
   "outputs": [
    {
     "name": "stdout",
     "output_type": "stream",
     "text": [
      " \t Counter({1: 948, 2: 76})\n",
      "Energy from  0.25\n",
      "Z0 \t Counter({1: 934, 2: 90})\n",
      "Energy from Z0 -0.2060546875\n",
      "Z1 \t Counter({1: 915, 2: 109})\n",
      "Energy from Z1 0.19677734375\n",
      "Z0Z1 \t Counter({1: 911, 2: 113})\n",
      "Energy from Z0Z1 -0.25\n",
      "X0X1 \t Counter({3: 427, 0: 388, 2: 109, 1: 100})\n",
      "Energy from X0X1 -0.591796875\n",
      "Y0Y1 \t Counter({3: 408, 0: 389, 1: 124, 2: 103})\n",
      "Energy from Y0Y1 -0.556640625\n",
      "Energy: -1.15771484375\n"
     ]
    },
    {
     "data": {
      "text/plain": [
       "-1.15771484375"
      ]
     },
     "execution_count": 10,
     "metadata": {},
     "output_type": "execute_result"
    }
   ],
   "source": [
    "full_energy(0.2,1.,show=True)"
   ]
  },
  {
   "cell_type": "markdown",
   "metadata": {},
   "source": [
    "# Finding the Minimum (Brute Force)"
   ]
  },
  {
   "cell_type": "code",
   "execution_count": 11,
   "metadata": {},
   "outputs": [],
   "source": [
    "alpha = np.linspace(-1.,1.,30)\n",
    "beta = np.linspace(0.,1.,5)"
   ]
  },
  {
   "cell_type": "code",
   "execution_count": 12,
   "metadata": {},
   "outputs": [],
   "source": [
    "full_energy_list = [[full_energy(a, b) for a in alpha] for b in beta]"
   ]
  },
  {
   "cell_type": "code",
   "execution_count": 13,
   "metadata": {},
   "outputs": [
    {
     "data": {
      "image/png": "[encoded data removed]",
      "text/plain": [
       "<Figure size 1008x504 with 1 Axes>"
      ]
     },
     "metadata": {
      "needs_background": "light"
     },
     "output_type": "display_data"
    }
   ],
   "source": [
    "plt.rc('text',usetex=True)\n",
    "plt.rc('font', family='serif', size=18)\n",
    "fig, ax = plt.subplots(figsize=(14, 7))\n",
    "\n",
    "for ii, vv in enumerate(beta):\n",
    "    ax.plot(alpha,full_energy_list[ii],linestyle='-',label=r'$\\beta=$ '+str(vv))\n",
    "\n",
    "ax.set_ylabel(r'$\\langle H\\rangle$')\n",
    "ax.set_xlabel(r'$\\alpha$')\n",
    "ax.legend()\n",
    "plt.show()"
   ]
  },
  {
   "cell_type": "markdown",
   "metadata": {},
   "source": [
    "The lowest energy $E_0$ corresponds to $-2.0$, and occurs when $\\alpha=0.5$ and $\\beta=1.0$, that is, when $| \\psi_0 \\rangle = \\frac{1}{\\sqrt{2}} |01\\rangle +\\frac{1}{\\sqrt{2}} |10\\rangle$. Using the Variational Quantum Eigensolver, we have successfully discovered the lowest energy of the system, $E_0$, and its associated eigenstate, $| \\psi_0 \\rangle$, for our Hamiltonian $H$."
   ]
  },
  {
   "cell_type": "markdown",
   "metadata": {},
   "source": [
    "# Finding the Minimum (Using Minimizer)"
   ]
  },
  {
   "cell_type": "code",
   "execution_count": 14,
   "metadata": {},
   "outputs": [],
   "source": [
    "from scipy.optimize import minimize"
   ]
  },
  {
   "cell_type": "code",
   "execution_count": 15,
   "metadata": {},
   "outputs": [],
   "source": [
    "# scipy.optimize.minimize shenanigans\n",
    "def full_energy_2(x):\n",
    "    return full_energy(*x)"
   ]
  },
  {
   "cell_type": "code",
   "execution_count": 16,
   "metadata": {},
   "outputs": [],
   "source": [
    "x0 = [-0.5, 0.5]"
   ]
  },
  {
   "cell_type": "code",
   "execution_count": 17,
   "metadata": {},
   "outputs": [
    {
     "name": "stdout",
     "output_type": "stream",
     "text": [
      "Optimization terminated successfully.\n",
      "         Current function value: -2.030273\n",
      "         Iterations: 2\n",
      "         Function evaluations: 96\n"
     ]
    }
   ],
   "source": [
    "result = minimize(full_energy_2, x0, method='Powell', \n",
    "                  options={'ftol':0.1,'maxiter':10,'disp':True})"
   ]
  },
  {
   "cell_type": "code",
   "execution_count": 18,
   "metadata": {},
   "outputs": [
    {
     "name": "stdout",
     "output_type": "stream",
     "text": [
      "Alpha is 0.53 and beta is 1.0, with E_0 equal to -2.0.\n"
     ]
    }
   ],
   "source": [
    "x_f = [(vv+1)%2 - 1 for vv in result.x]\n",
    "print('Alpha is {:.2} and beta is {:.2}, with E_0 equal to {:.2}.'.format(*x_f, result.fun))"
   ]
  },
  {
   "cell_type": "markdown",
   "metadata": {},
   "source": [
    "Note that because the number of measurements is not infinite, there is an inherent stochasticity in the energy value obtained. The minimizer algorithm that you use should be at least somewhat robust to this. It is usually better to avoid minimizers that rely on first or second derivatives, since they will usually fail to converge."
   ]
  },
  {
   "cell_type": "code",
   "execution_count": null,
   "metadata": {},
   "outputs": [],
   "source": []
  }
 ],
 "metadata": {
  "kernelspec": {
   "display_name": "Python 3",
   "language": "python",
   "name": "python3"
  },
  "language_info": {
   "codemirror_mode": {
    "name": "ipython",
    "version": 3
   },
   "file_extension": ".py",
   "mimetype": "text/x-python",
   "name": "python",
   "nbconvert_exporter": "python",
   "pygments_lexer": "ipython3",
   "version": "3.7.4"
  }
 },
 "nbformat": 4,
 "nbformat_minor": 4
}
