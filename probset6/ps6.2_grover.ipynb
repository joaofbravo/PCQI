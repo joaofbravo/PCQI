{
 "cells": [
  {
   "cell_type": "code",
   "execution_count": 1,
   "metadata": {
    "ExecuteTime": {
     "end_time": "2019-12-08T23:24:58.399256Z",
     "start_time": "2019-12-08T23:24:57.230077Z"
    },
    "init_cell": true
   },
   "outputs": [],
   "source": [
    "import numpy as np\n",
    "import matplotlib as plt\n",
    "import random\n",
    "import cirq"
   ]
  },
  {
   "cell_type": "markdown",
   "metadata": {},
   "source": [
    "#### N = 4 elements, log2(N) qubits & 1 solution"
   ]
  },
  {
   "cell_type": "code",
   "execution_count": 117,
   "metadata": {
    "ExecuteTime": {
     "end_time": "2019-12-08T22:47:50.220191Z",
     "start_time": "2019-12-08T22:47:50.199909Z"
    }
   },
   "outputs": [],
   "source": [
    "def grover(qubits, fsol, reps):\n",
    "    '''Grover-circuit simulator for 1 solution in N elements.\n",
    "    Input: log_2(N) qubits + ancilla & function indicating right element.'''\n",
    "    N = len(fsol)\n",
    "    n = len(qubits) - 1\n",
    "    \n",
    "    # Create circuit\n",
    "    circuit = cirq.Circuit()\n",
    "    \n",
    "    # Initialize qubits\n",
    "    for qb in qubits[:-1]:\n",
    "        circuit.append(cirq.H(qb))\n",
    "    circuit.append([cirq.X(qubits[-1]), cirq.H(qubits[-1])])\n",
    "        \n",
    "    # Apply Grover operator int(pi/4 * sqrt(N)) times\n",
    "    #Oracle\n",
    "    for i in range(N):\n",
    "        if fsol[i] == 1:\n",
    "            break\n",
    "    # convert position of fsol solution to binary, parse each bit & apply X gate if bit==0 \n",
    "    oracleX = []\n",
    "    for j,bit in enumerate(format(i, '0'+str(n)+'b')):\n",
    "        if bit == '0':\n",
    "            oracleX += [cirq.X(qubits[n-j-1])]\n",
    "    oracle = oracleX + [cirq.CCX(*qubits)] + oracleX # only works for n=2\n",
    "    \n",
    "    for _ in range(int(np.pi/4 * np.sqrt(N))):\n",
    "        #Oracle\n",
    "        circuit.append(oracle, strategy=cirq.InsertStrategy.NEW_THEN_INLINE)\n",
    "\n",
    "        for qb in qubits[:-1]:\n",
    "            circuit.append(cirq.H(qb))\n",
    "\n",
    "        #Phase-shift\n",
    "        for qb in qubits[:-1]:\n",
    "            circuit.append(cirq.X(qb))\n",
    "        circuit.append(cirq.CZ(*qubits[:-1])) # only works for n=2\n",
    "        for qb in qubits[:-1]:\n",
    "            circuit.append(cirq.X(qb))\n",
    "\n",
    "        for qb in qubits[:-1]:\n",
    "            circuit.append(cirq.H(qb))\n",
    "    # print('Grover iterations:', _+1, '\\n')\n",
    "    \n",
    "    # Measure\n",
    "    circuit.append(cirq.measure(*qubits[:-1]))\n",
    "    print(circuit, '\\n')\n",
    "\n",
    "    # Simulate circuit\n",
    "    simulator = cirq.Simulator()\n",
    "    result = simulator.run(circuit, repetitions=reps)\n",
    "    print('Measurement result:', result)\n",
    "    return circuit, result"
   ]
  },
  {
   "cell_type": "code",
   "execution_count": 131,
   "metadata": {
    "ExecuteTime": {
     "end_time": "2019-12-08T22:51:55.960139Z",
     "start_time": "2019-12-08T22:51:55.950274Z"
    }
   },
   "outputs": [
    {
     "name": "stdout",
     "output_type": "stream",
     "text": [
      "0: ───H───────@───H───X───@───X───H───M───\n",
      "              │           │           │\n",
      "1: ───H───────@───H───X───@───X───H───M───\n",
      "              │\n",
      "2: ───X───H───X─────────────────────────── \n",
      "\n",
      "Measurement result: 0,1=1111111111, 1111111111\n",
      "\n",
      "Solution was element 3.\n"
     ]
    }
   ],
   "source": [
    "N = 4\n",
    "f = np.zeros(N, dtype=int)\n",
    "sol = np.random.randint(N)\n",
    "f[sol] = 1\n",
    "\n",
    "qubits = cirq.LineQubit.range(int(np.log2(N)) + 1)\n",
    "circuit, result = grover(qubits, f, 10)\n",
    "print('\\nSolution was element {}.'.format(sol))"
   ]
  }
 ],
 "metadata": {
  "kernelspec": {
   "display_name": "Python 3",
   "language": "python",
   "name": "python3"
  },
  "language_info": {
   "codemirror_mode": {
    "name": "ipython",
    "version": 3
   },
   "file_extension": ".py",
   "mimetype": "text/x-python",
   "name": "python",
   "nbconvert_exporter": "python",
   "pygments_lexer": "ipython3",
   "version": "3.7.3"
  },
  "toc": {
   "base_numbering": 1,
   "nav_menu": {},
   "number_sections": false,
   "sideBar": false,
   "skip_h1_title": false,
   "title_cell": "Contents",
   "title_sidebar": "Contents",
   "toc_cell": false,
   "toc_position": {},
   "toc_section_display": true,
   "toc_window_display": false
  },
  "varInspector": {
   "cols": {
    "lenName": 16,
    "lenType": 16,
    "lenVar": 40
   },
   "kernels_config": {
    "python": {
     "delete_cmd_postfix": "",
     "delete_cmd_prefix": "del ",
     "library": "var_list.py",
     "varRefreshCmd": "print(var_dic_list())"
    },
    "r": {
     "delete_cmd_postfix": ") ",
     "delete_cmd_prefix": "rm(",
     "library": "var_list.r",
     "varRefreshCmd": "cat(var_dic_list()) "
    }
   },
   "types_to_exclude": [
    "module",
    "function",
    "builtin_function_or_method",
    "instance",
    "_Feature"
   ],
   "window_display": false
  }
 },
 "nbformat": 4,
 "nbformat_minor": 2
}
