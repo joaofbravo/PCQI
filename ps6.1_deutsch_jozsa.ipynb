{
 "cells": [
  {
   "cell_type": "code",
   "execution_count": 2,
   "metadata": {
    "ExecuteTime": {
     "end_time": "2019-11-09T17:27:00.428440Z",
     "start_time": "2019-11-09T17:26:58.780218Z"
    }
   },
   "outputs": [],
   "source": [
    "import numpy as np\n",
    "import matplotlib as plt\n",
    "import random\n",
    "import cirq"
   ]
  },
  {
   "cell_type": "code",
   "execution_count": 96,
   "metadata": {
    "ExecuteTime": {
     "end_time": "2019-11-09T17:55:50.561045Z",
     "start_time": "2019-11-09T17:55:50.537517Z"
    }
   },
   "outputs": [
    {
     "name": "stdout",
     "output_type": "stream",
     "text": [
      "Secret function:  f(x) = (1, 0)\n",
      "\n",
      "q0: ───H───────@───H───M───\n",
      "               │\n",
      "q1: ───X───H───X───X─────── \n",
      "\n",
      "Measurement result: q0=1\n"
     ]
    }
   ],
   "source": [
    "# Input qubits\n",
    "q0 = cirq.NamedQubit(\"q0\")\n",
    "q1 = cirq.NamedQubit(\"q1\")\n",
    "func = [1, 0]\n",
    "print('Secret function:  f(x) = (%i, %i)\\n' % (func[0], func[1]))\n",
    "\n",
    "# Gates\n",
    "ops = [cirq.H(q0), cirq.X(q1), cirq.H(q1)]\n",
    "if func == [0, 0]:\n",
    "    ops += []\n",
    "elif func == [0, 1]:\n",
    "    ops += [cirq.CNOT(q0, q1)]\n",
    "elif func == [1, 0]:\n",
    "    ops += [cirq.CNOT(q0, q1), cirq.X(q1)]\n",
    "elif func == [1, 1]:\n",
    "    ops += [cirq.X(q1)]\n",
    "ops += [cirq.H(q0), cirq.measure(q0)]\n",
    "\n",
    "# Create circuit\n",
    "circuit = cirq.Circuit.from_ops(ops)\n",
    "print(circuit, '\\n')\n",
    "\n",
    "# Simulate circuit\n",
    "simulator = cirq.Simulator()\n",
    "result = simulator.run(circuit)\n",
    "print('Measurement result:', result)"
   ]
  },
  {
   "cell_type": "code",
   "execution_count": 30,
   "metadata": {
    "ExecuteTime": {
     "end_time": "2019-11-09T17:33:40.772268Z",
     "start_time": "2019-11-09T17:33:40.755505Z"
    }
   },
   "outputs": [],
   "source": [
    "def make_oracle(q0, q1, secret_function):\n",
    "    \"\"\" Gates implementing any secret function f(x).\"\"\"\n",
    "    # coverage: ignore\n",
    "    if secret_function[0]:\n",
    "        yield [cirq.CNOT(q0, q1), cirq.X(q1)]\n",
    "        \n",
    "    if secret_function[1]:\n",
    "        yield cirq.CNOT(q0, q1)\n",
    "\n",
    "def make_deutsch_circuit(q0, q1, oracle):\n",
    "    c = cirq.Circuit()\n",
    "    # Initialize qubits\n",
    "    c.append([cirq.H(q0), cirq.X(q1), cirq.H(q1)])\n",
    "    # Query oracle\n",
    "    c.append(oracle)\n",
    "    # Measure in X basis\n",
    "    c.append([cirq.H(q0), cirq.measure(q0)])\n",
    "    return c"
   ]
  },
  {
   "cell_type": "code",
   "execution_count": 64,
   "metadata": {
    "ExecuteTime": {
     "end_time": "2019-11-09T17:39:14.832578Z",
     "start_time": "2019-11-09T17:39:14.817639Z"
    }
   },
   "outputs": [
    {
     "name": "stdout",
     "output_type": "stream",
     "text": [
      "Secret function:  f(x) = (1, 0)\n",
      "\n",
      "q0: ───H───────@───H───M───\n",
      "               │\n",
      "q1: ───X───H───X───X─────── \n",
      "\n",
      "Result of f(0)⊕f(1): q0=1\n"
     ]
    }
   ],
   "source": [
    "# Input qubits\n",
    "q0 = cirq.NamedQubit(\"q0\")\n",
    "q1 = cirq.NamedQubit(\"q1\")\n",
    "\n",
    "# Pick secret 2-bit function & create circuit to query oracle\n",
    "secret_function = [random.randint(0, 1), random.randint(0, 1)]\n",
    "oracle = make_oracle(q0, q1, secret_function)\n",
    "print('Secret function:  f(x) = (%i, %i)\\n' % (secret_function[0], secret_function[1]))\n",
    "\n",
    "# Embed oracle into quantum circuit, querying it once\n",
    "circuit = make_deutsch_circuit(q0, q1, oracle)\n",
    "print(circuit, '\\n')\n",
    "\n",
    "# Simulate circuit\n",
    "simulator = cirq.Simulator()\n",
    "result = simulator.run(circuit)\n",
    "print('Result of f(0)⊕f(1):', result)"
   ]
  }
 ],
 "metadata": {
  "kernelspec": {
   "display_name": "Python 3",
   "language": "python",
   "name": "python3"
  },
  "language_info": {
   "codemirror_mode": {
    "name": "ipython",
    "version": 3
   },
   "file_extension": ".py",
   "mimetype": "text/x-python",
   "name": "python",
   "nbconvert_exporter": "python",
   "pygments_lexer": "ipython3",
   "version": "3.7.3"
  },
  "toc": {
   "base_numbering": 1,
   "nav_menu": {},
   "number_sections": false,
   "sideBar": false,
   "skip_h1_title": false,
   "title_cell": "Contents",
   "title_sidebar": "Contents",
   "toc_cell": false,
   "toc_position": {},
   "toc_section_display": true,
   "toc_window_display": false
  },
  "varInspector": {
   "cols": {
    "lenName": 16,
    "lenType": 16,
    "lenVar": 40
   },
   "kernels_config": {
    "python": {
     "delete_cmd_postfix": "",
     "delete_cmd_prefix": "del ",
     "library": "var_list.py",
     "varRefreshCmd": "print(var_dic_list())"
    },
    "r": {
     "delete_cmd_postfix": ") ",
     "delete_cmd_prefix": "rm(",
     "library": "var_list.r",
     "varRefreshCmd": "cat(var_dic_list()) "
    }
   },
   "types_to_exclude": [
    "module",
    "function",
    "builtin_function_or_method",
    "instance",
    "_Feature"
   ],
   "window_display": false
  }
 },
 "nbformat": 4,
 "nbformat_minor": 2
}
