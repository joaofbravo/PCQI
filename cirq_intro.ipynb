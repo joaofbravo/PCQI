{
 "cells": [
  {
   "cell_type": "code",
   "execution_count": 3,
   "metadata": {
    "ExecuteTime": {
     "end_time": "2019-09-28T11:09:59.672106Z",
     "start_time": "2019-09-28T11:09:59.668207Z"
    }
   },
   "outputs": [],
   "source": [
    "import numpy as np\n",
    "import matplotlib as plt\n",
    "import cirq"
   ]
  },
  {
   "cell_type": "code",
   "execution_count": 3,
   "metadata": {
    "ExecuteTime": {
     "end_time": "2019-10-22T01:51:10.893969Z",
     "start_time": "2019-10-22T01:51:10.882548Z"
    }
   },
   "outputs": [
    {
     "data": {
      "text/plain": [
       "('0.10.0',\n",
       " {'qiskit-terra': '0.10.0',\n",
       "  'qiskit-aer': '0.3.2',\n",
       "  'qiskit-ignis': '0.2.0',\n",
       "  'qiskit-ibmq-provider': '0.3.3',\n",
       "  'qiskit-aqua': '0.6.1',\n",
       "  'qiskit': '0.13.0'})"
      ]
     },
     "execution_count": 3,
     "metadata": {},
     "output_type": "execute_result"
    }
   ],
   "source": [
    "import qiskit\n",
    "from qiskit import IBMQ\n",
    "\n",
    "IBMQ.save_account('5a5f578d872f079283abb55bbfe0e4955098df699427d827b5a1ca1c74c0e1de848e7d0832a8d79abeaf53af99f8fcb730c833f45175a2775f3fd099ac2e352a')\n",
    "qiskit.__qiskit_version__"
   ]
  },
  {
   "cell_type": "code",
   "execution_count": 4,
   "metadata": {
    "ExecuteTime": {
     "end_time": "2019-09-28T11:10:00.256589Z",
     "start_time": "2019-09-28T11:10:00.241763Z"
    },
    "scrolled": true
   },
   "outputs": [
    {
     "name": "stdout",
     "output_type": "stream",
     "text": [
      "                                             (0, 5)────(0, 6)\n",
      "                                             │         │\n",
      "                                             │         │\n",
      "                                    (1, 4)───(1, 5)────(1, 6)────(1, 7)\n",
      "                                    │        │         │         │\n",
      "                                    │        │         │         │\n",
      "                           (2, 3)───(2, 4)───(2, 5)────(2, 6)────(2, 7)───(2, 8)\n",
      "                           │        │        │         │         │        │\n",
      "                           │        │        │         │         │        │\n",
      "                  (3, 2)───(3, 3)───(3, 4)───(3, 5)────(3, 6)────(3, 7)───(3, 8)───(3, 9)\n",
      "                  │        │        │        │         │         │        │        │\n",
      "                  │        │        │        │         │         │        │        │\n",
      "         (4, 1)───(4, 2)───(4, 3)───(4, 4)───(4, 5)────(4, 6)────(4, 7)───(4, 8)───(4, 9)───(4, 10)\n",
      "         │        │        │        │        │         │         │        │        │        │\n",
      "         │        │        │        │        │         │         │        │        │        │\n",
      "(5, 0)───(5, 1)───(5, 2)───(5, 3)───(5, 4)───(5, 5)────(5, 6)────(5, 7)───(5, 8)───(5, 9)───(5, 10)───(5, 11)\n",
      "         │        │        │        │        │         │         │        │        │        │\n",
      "         │        │        │        │        │         │         │        │        │        │\n",
      "         (6, 1)───(6, 2)───(6, 3)───(6, 4)───(6, 5)────(6, 6)────(6, 7)───(6, 8)───(6, 9)───(6, 10)\n",
      "                  │        │        │        │         │         │        │        │\n",
      "                  │        │        │        │         │         │        │        │\n",
      "                  (7, 2)───(7, 3)───(7, 4)───(7, 5)────(7, 6)────(7, 7)───(7, 8)───(7, 9)\n",
      "                           │        │        │         │         │        │\n",
      "                           │        │        │         │         │        │\n",
      "                           (8, 3)───(8, 4)───(8, 5)────(8, 6)────(8, 7)───(8, 8)\n",
      "                                    │        │         │         │\n",
      "                                    │        │         │         │\n",
      "                                    (9, 4)───(9, 5)────(9, 6)────(9, 7)\n",
      "                                             │         │\n",
      "                                             │         │\n",
      "                                             (10, 5)───(10, 6)\n"
     ]
    }
   ],
   "source": [
    "print(cirq.google.Bristlecone)"
   ]
  },
  {
   "cell_type": "code",
   "execution_count": 7,
   "metadata": {
    "ExecuteTime": {
     "end_time": "2019-09-28T11:20:04.729011Z",
     "start_time": "2019-09-28T11:20:04.706605Z"
    }
   },
   "outputs": [
    {
     "name": "stdout",
     "output_type": "stream",
     "text": [
      "Before\n",
      "a: ───X───Z───@───X───\n",
      "              │\n",
      "b: ───────────@───────\n",
      "\n",
      "After\n",
      "a: ───Y───────@───X───\n",
      "              │\n",
      "b: ───────────@───────\n"
     ]
    }
   ],
   "source": [
    "class XZOptimizer(cirq.PointOptimizer):\n",
    "    \"\"\"Replaces an X followed by a Z with a Y.\"\"\"\n",
    "    \n",
    "    # The circuit to improve\n",
    "    # The index of the moment with the operation to focus on\n",
    "    # The operation to focus improvements upon\n",
    "    def optimization_at(self, circuit, index, op):\n",
    "        # Is the gate an X gate?\n",
    "        if isinstance(op, cirq.GateOperation) and (op.gate == cirq.X):\n",
    "        \n",
    "            # Finds the index of the next moment that touches the given qubits.\n",
    "            next_op_index = circuit.next_moment_operating_on(op.qubits, index + 1)\n",
    "            qubit = op.qubits[0]\n",
    "            \n",
    "            # If the next index exists\n",
    "            if next_op_index is not None:\n",
    "                # Get the operation at the existing index\n",
    "                next_op = circuit.operation_at(qubit, next_op_index)\n",
    "                \n",
    "                # Is this next_op a Z gate?\n",
    "                if isinstance(next_op, cirq.GateOperation) and (next_op.gate == cirq.Z):\n",
    "                    # If yes, replace the X and the Z with a Y\n",
    "                    new_op = cirq.Y.on(qubit)\n",
    "            \n",
    "                    # see https://cirq.readthedocs.io/en/stable/generated/ ...\n",
    "                    # ... cirq.PointOptimizationSummary.html?highlight=pointoptimizationsummary\n",
    "                    return cirq.PointOptimizationSummary(\n",
    "                        clear_span = next_op_index - index + 1, # Range of moments to affect. \n",
    "                        clear_qubits = op.qubits, # set of qubits cleared with each affected moment\n",
    "                        new_operations = [new_op]) # operations to replace\n",
    "\n",
    "# The optimizer\n",
    "opt = XZOptimizer()\n",
    "\n",
    "a = cirq.NamedQubit(\"a\")\n",
    "b = cirq.NamedQubit(\"b\")\n",
    "\n",
    "# Unoptimized circuit\n",
    "circuit = cirq.Circuit.from_ops(cirq.X(a), cirq.Z(a), cirq.CZ(a, b), cirq.X(a))\n",
    "print('Before\\n{}\\n'. format(circuit))\n",
    "\n",
    "# Optimized circuit\n",
    "opt.optimize_circuit(circuit)\n",
    "print('After\\n{}'.format(circuit))"
   ]
  },
  {
   "cell_type": "markdown",
   "metadata": {},
   "source": [
    "Write a PointOptimizer that performs (greedily) the simplification that\n",
    "\n",
    "a: ───H───@───H───  \n",
    "          │  \n",
    "b: ───H───X───H───  \n",
    "\n",
    "is equal to\n",
    "\n",
    "a: ───X───  \n",
    "      │  \n",
    "b: ───@───"
   ]
  },
  {
   "cell_type": "code",
   "execution_count": 45,
   "metadata": {
    "ExecuteTime": {
     "end_time": "2019-09-28T12:02:15.591344Z",
     "start_time": "2019-09-28T12:02:15.575341Z"
    }
   },
   "outputs": [
    {
     "name": "stdout",
     "output_type": "stream",
     "text": [
      "Before\n",
      "a: ───H───H───@───H───H───X───────────\n",
      "              │           │\n",
      "b: ───────────X───H───────@───H───H───\n",
      "\n",
      "After\n",
      "a: ───@───────X───\n",
      "      │       │\n",
      "b: ───X───H───@───\n"
     ]
    }
   ],
   "source": [
    "class HHOptimizer(cirq.PointOptimizer):\n",
    "    \"\"\"Replaces an H followed by an H with identity.\"\"\"\n",
    "    \n",
    "    # The circuit to improve\n",
    "    # The index of the moment with the operation to focus on\n",
    "    # The operation to focus improvements upon\n",
    "    def optimization_at(self, circuit, index, op):\n",
    "        # Is the gate an H gate?\n",
    "        if isinstance(op, cirq.GateOperation) and (op.gate == cirq.H):\n",
    "        \n",
    "            # Finds the index of the next moment that touches the given qubits.\n",
    "            next_op_index = circuit.next_moment_operating_on(op.qubits, index + 1)\n",
    "            qubit = op.qubits[0]\n",
    "            \n",
    "            # If the next index exists\n",
    "            if next_op_index is not None:\n",
    "                # Get the operation at the existing index\n",
    "                next_op = circuit.operation_at(qubit, next_op_index)\n",
    "                \n",
    "                # Is this next_op a Z gate?\n",
    "                if isinstance(next_op, cirq.GateOperation) and (next_op.gate == cirq.H):\n",
    "                    # see https://cirq.readthedocs.io/en/stable/generated/ ...\n",
    "                    # ... cirq.PointOptimizationSummary.html?highlight=pointoptimizationsummary\n",
    "                    return cirq.PointOptimizationSummary(\n",
    "                        clear_span = next_op_index - index + 1, # Range of moments to affect. \n",
    "                        clear_qubits = op.qubits, # set of qubits cleared with each affected moment\n",
    "                        new_operations = []) # operations to replace\n",
    "\n",
    "# The optimizer\n",
    "opt = HHOptimizer()\n",
    "\n",
    "a = cirq.NamedQubit(\"a\")\n",
    "b = cirq.NamedQubit(\"b\")\n",
    "\n",
    "# Unoptimized circuit\n",
    "circuit = cirq.Circuit.from_ops(cirq.H(a), cirq.H(a), cirq.CNOT(a, b), cirq.H(a), cirq.H(b), cirq.H(a),\n",
    "                                cirq.CNOT(b, a), cirq.H(b), cirq.H(b))\n",
    "print('Before\\n{}\\n'. format(circuit))\n",
    "\n",
    "# Optimized circuit\n",
    "opt.optimize_circuit(circuit)\n",
    "cirq.DropEmptyMoments.optimize_circuit(circuit, circuit)\n",
    "print('After\\n{}'.format(circuit))"
   ]
  },
  {
   "cell_type": "code",
   "execution_count": 46,
   "metadata": {
    "ExecuteTime": {
     "end_time": "2019-09-28T12:02:19.879921Z",
     "start_time": "2019-09-28T12:02:19.858405Z"
    }
   },
   "outputs": [
    {
     "name": "stdout",
     "output_type": "stream",
     "text": [
      "Before\n",
      "a: ───H───@───H───\n",
      "          │\n",
      "b: ───H───X───H───\n",
      "\n",
      "After\n",
      "a: ───X───\n",
      "      │\n",
      "b: ───@───\n"
     ]
    }
   ],
   "source": [
    "class flippedCNOTOptimizer(cirq.PointOptimizer):\n",
    "    \"\"\"Replaces an X followed by a Z with a Y.\"\"\"\n",
    "    \n",
    "    # The circuit to improve\n",
    "    # The index of the moment with the operation to focus on\n",
    "    # The operation to focus improvements upon\n",
    "    def optimization_at(self, circuit, index, op):\n",
    "        # Is the gate a CNOT gate?\n",
    "        if isinstance(op, cirq.GateOperation) and (op.gate == cirq.CNOT):\n",
    "            \n",
    "            # Finds the index of the next moment that touches the given qubits.\n",
    "            next_op_index = circuit.next_moment_operating_on(op.qubits, index + 1)\n",
    "            qubit0 = op.qubits[0]\n",
    "            qubit1 = op.qubits[1]\n",
    "            \n",
    "            # If the next index exists\n",
    "            if next_op_index is not None:\n",
    "            \n",
    "                # Get the operation at the existing index\n",
    "                next_op0 = circuit.operation_at(qubit0, next_op_index)\n",
    "                next_op1 = circuit.operation_at(qubit1, next_op_index)\n",
    "                \n",
    "                # Are next_op0 & next_op1 H gates?\n",
    "                if isinstance(next_op0, cirq.GateOperation) and (next_op0.gate == cirq.H)\n",
    "                and (next_op1.gate == cirq.H):\n",
    "                    new_op = [cirq.H(qubit0), cirq.H(qubit1), cirq.CNOT.on(qubit1, qubit0)]\n",
    "                \n",
    "                    # see https://cirq.readthedocs.io/en/stable/generated/ ...\n",
    "                    # ... cirq.PointOptimizationSummary.html?highlight=pointoptimizationsummary\n",
    "                    return cirq.PointOptimizationSummary(\n",
    "                        clear_span = next_op_index - index + 1, # Range of moments to affect\n",
    "                        clear_qubits = op.qubits, # set of qubits cleared with each affected moment\n",
    "                        new_operations = [new_op])# operations to replace\n",
    "\n",
    "# The optimizer\n",
    "optCNOT = flippedCNOTOptimizer()\n",
    "optHH = HHOptimizer()\n",
    "\n",
    "a = cirq.NamedQubit(\"a\")\n",
    "b = cirq.NamedQubit(\"b\")\n",
    "\n",
    "# Unoptimized circuit\n",
    "circuit = cirq.Circuit.from_ops(cirq.H(a), cirq.H(b), cirq.CNOT(a, b), cirq.H(a), cirq.H(b))\n",
    "print('Before\\n{}\\n'. format(circuit))\n",
    "\n",
    "# Optimized circuit\n",
    "optCNOT.optimize_circuit(circuit)\n",
    "optHH.optimize_circuit(circuit)\n",
    "cirq.DropEmptyMoments.optimize_circuit(circuit, circuit)\n",
    "\n",
    "print('After\\n{}'.format(circuit))"
   ]
  },
  {
   "cell_type": "code",
   "execution_count": null,
   "metadata": {},
   "outputs": [],
   "source": []
  }
 ],
 "metadata": {
  "kernelspec": {
   "display_name": "Python 3",
   "language": "python",
   "name": "python3"
  },
  "language_info": {
   "codemirror_mode": {
    "name": "ipython",
    "version": 3
   },
   "file_extension": ".py",
   "mimetype": "text/x-python",
   "name": "python",
   "nbconvert_exporter": "python",
   "pygments_lexer": "ipython3",
   "version": "3.7.3"
  },
  "toc": {
   "base_numbering": 1,
   "nav_menu": {},
   "number_sections": false,
   "sideBar": false,
   "skip_h1_title": false,
   "title_cell": "Contents",
   "title_sidebar": "Contents",
   "toc_cell": false,
   "toc_position": {},
   "toc_section_display": true,
   "toc_window_display": false
  },
  "varInspector": {
   "cols": {
    "lenName": 16,
    "lenType": 16,
    "lenVar": 40
   },
   "kernels_config": {
    "python": {
     "delete_cmd_postfix": "",
     "delete_cmd_prefix": "del ",
     "library": "var_list.py",
     "varRefreshCmd": "print(var_dic_list())"
    },
    "r": {
     "delete_cmd_postfix": ") ",
     "delete_cmd_prefix": "rm(",
     "library": "var_list.r",
     "varRefreshCmd": "cat(var_dic_list()) "
    }
   },
   "types_to_exclude": [
    "module",
    "function",
    "builtin_function_or_method",
    "instance",
    "_Feature"
   ],
   "window_display": false
  }
 },
 "nbformat": 4,
 "nbformat_minor": 2
}
