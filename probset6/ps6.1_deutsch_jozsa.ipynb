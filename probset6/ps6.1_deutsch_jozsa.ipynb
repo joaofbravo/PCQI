{
 "cells": [
  {
   "cell_type": "code",
   "execution_count": 1,
   "metadata": {
    "ExecuteTime": {
     "end_time": "2019-12-08T22:58:17.652445Z",
     "start_time": "2019-12-08T22:58:16.770134Z"
    },
    "init_cell": true
   },
   "outputs": [],
   "source": [
    "import numpy as np\n",
    "import matplotlib as plt\n",
    "import random\n",
    "import cirq"
   ]
  },
  {
   "cell_type": "markdown",
   "metadata": {},
   "source": [
    "#### a) n = 2"
   ]
  },
  {
   "cell_type": "code",
   "execution_count": 3,
   "metadata": {
    "ExecuteTime": {
     "end_time": "2019-12-07T20:46:47.078148Z",
     "start_time": "2019-12-07T20:46:47.056575Z"
    },
    "code_folding": [],
    "scrolled": true
   },
   "outputs": [
    {
     "name": "stdout",
     "output_type": "stream",
     "text": [
      "Secret function: f(0,0)=1, f(0,1))=0, f(1,0)=0, f(1,1)=1\n",
      "\n",
      "x0: ───H───────@───H───────M───\n",
      "               │           │\n",
      "x1: ───H───────┼───@───H───M───\n",
      "               │   │\n",
      "y: ────X───H───X───X───X─────── \n",
      "\n",
      "Measurement result: x0,x1=1, 1\n"
     ]
    }
   ],
   "source": [
    "# Input qubits\n",
    "x0 = cirq.NamedQubit(\"x0\")\n",
    "x1 = cirq.NamedQubit(\"x1\")\n",
    "y = cirq.NamedQubit(\"y\")\n",
    "func = np.array(((1, 0), (0, 1)))\n",
    "print('Secret function: f(0,0)={}, f(0,1))={}, f(1,0)={}, f(1,1)={}\\n'.format(\n",
    "    func[0,0], func[0,1], func[1,0], func[1,1]))\n",
    "\n",
    "# Gates\n",
    "ops = [cirq.H(x0), cirq.H(x1), cirq.X(y), cirq.H(y)]\n",
    "\n",
    "# Oracles\n",
    "if not func.any(): # f = 0\n",
    "    ops += []\n",
    "elif func.all(): # f = 1\n",
    "    ops += [cirq.X(y)]\n",
    "\n",
    "elif func[0,0] == func[1,0]: # f(*,x0) = 1\n",
    "    if func[0,0] == 1:\n",
    "        ops += [cirq.X(x0)]\n",
    "    ops += [cirq.CNOT(x0, y)]\n",
    "\n",
    "elif func[0,0] == func[0,1]: # f(x1,*) = 1\n",
    "    if func[0,0] == 1:\n",
    "        ops += [cirq.X(x1)]\n",
    "    ops += [cirq.CNOT(x1, y)]\n",
    "\n",
    "elif func[0,0] == func[1,1]: # f(x1 == x0) = 1\n",
    "    ops += [cirq.CNOT(x0, y), cirq.CNOT(x1, y)]\n",
    "    if func[0,0] == 1:\n",
    "        ops += [cirq.X(y)]\n",
    "# end of oracles\n",
    "\n",
    "ops += [cirq.H(x0), cirq.H(x1), cirq.measure(x0, x1)]\n",
    "\n",
    "# Create circuit\n",
    "circuit = cirq.Circuit.from_ops(ops)\n",
    "print(circuit, '\\n')\n",
    "\n",
    "# Simulate circuit\n",
    "simulator = cirq.Simulator()\n",
    "result = simulator.run(circuit)\n",
    "print('Measurement result:', result)"
   ]
  },
  {
   "cell_type": "markdown",
   "metadata": {},
   "source": [
    "#### b) n = 3"
   ]
  },
  {
   "cell_type": "code",
   "execution_count": 4,
   "metadata": {
    "ExecuteTime": {
     "end_time": "2019-12-07T20:46:47.101586Z",
     "start_time": "2019-12-07T20:46:47.080672Z"
    }
   },
   "outputs": [
    {
     "name": "stdout",
     "output_type": "stream",
     "text": [
      "f=1\n",
      "x0: ───H───H───M───────────\n",
      "               │\n",
      "x1: ───H───H───M───────────\n",
      "               │\n",
      "x2: ───H───H───M───────────\n",
      "\n",
      "y: ────X───H───X───X───X─── \n",
      "\n",
      "Measurement result: x0,x1,x2=0, 0, 0\n"
     ]
    }
   ],
   "source": [
    "import ps6_U_f\n",
    "\n",
    "# Input qubits\n",
    "x0 = cirq.NamedQubit(\"x0\")\n",
    "x1 = cirq.NamedQubit(\"x1\")\n",
    "x2 = cirq.NamedQubit(\"x2\")\n",
    "y = cirq.NamedQubit(\"y\")\n",
    "\n",
    "# Gates\n",
    "ops = [cirq.H(x0), cirq.H(x1), cirq.H(x2), cirq.X(y), cirq.H(y)]\n",
    "# Oracle U_f\n",
    "ops += ps6_U_f.U_f((x0, x1, x2, y))\n",
    "ops += [cirq.H(x0), cirq.H(x1), cirq.H(x2), cirq.measure(x0, x1, x2)]\n",
    "\n",
    "# Create circuit\n",
    "circuit = cirq.Circuit.from_ops(ops)\n",
    "print(circuit, '\\n')\n",
    "\n",
    "# Simulate circuit\n",
    "simulator = cirq.Simulator()\n",
    "result = simulator.run(circuit)\n",
    "print('Measurement result:', result)"
   ]
  },
  {
   "cell_type": "markdown",
   "metadata": {},
   "source": [
    "#### c) n qubits"
   ]
  },
  {
   "cell_type": "code",
   "execution_count": 6,
   "metadata": {
    "ExecuteTime": {
     "end_time": "2019-12-08T16:43:31.157712Z",
     "start_time": "2019-12-08T16:43:31.149474Z"
    }
   },
   "outputs": [],
   "source": [
    "def deutsch_jozsa(qubits, oracle):\n",
    "    '''Deutsch-Josza-circuit simulator for any unitary oracle enconding a n-bit function.'''\n",
    "    \n",
    "    # Create circuit\n",
    "    circuit = cirq.Circuit()\n",
    "    \n",
    "    # Initialize qubits\n",
    "    for qb in qubits[:-1]:\n",
    "        circuit.append(cirq.H(qb))\n",
    "    circuit.append([cirq.X(qubits[-1]), cirq.H(qubits[-1])])\n",
    "    # Query oracle\n",
    "    circuit.append(oracle, strategy=cirq.InsertStrategy.NEW_THEN_INLINE)\n",
    "    # Measure in X basis\n",
    "    for qb in qubits[:-1]:\n",
    "        circuit.append(cirq.H(qb), strategy=cirq.InsertStrategy.INLINE)\n",
    "    circuit.append(cirq.measure(*qubits[:-1]))\n",
    "    print(circuit, '\\n')\n",
    "\n",
    "    # Simulate circuit\n",
    "    simulator = cirq.Simulator()\n",
    "    result = simulator.run(circuit)\n",
    "    print('Measurement result:', result)\n",
    "    return circuit"
   ]
  },
  {
   "cell_type": "code",
   "execution_count": 5,
   "metadata": {
    "ExecuteTime": {
     "end_time": "2019-12-08T16:05:54.128046Z",
     "start_time": "2019-12-08T16:05:54.105402Z"
    },
    "code_folding": []
   },
   "outputs": [
    {
     "name": "stdout",
     "output_type": "stream",
     "text": [
      "f=1\n",
      "0: ───H───────────────────────H───M───\n",
      "                                  │\n",
      "1: ───H───────────────────────H───M───\n",
      "                                  │\n",
      "2: ───H───────────────────────H───M───\n",
      "                                  │\n",
      "3: ───H───────────────────────H───M───\n",
      "                                  │\n",
      "4: ───H───────────────────────H───M───\n",
      "\n",
      "5: ───X───H───X───X───X───X───X─────── \n",
      "\n",
      "Measurement result: 0,1,2,3,4=0, 0, 0, 0, 0\n"
     ]
    }
   ],
   "source": [
    "import ps6_U_f\n",
    "n = 5\n",
    "qubits = cirq.LineQubit.range(n+1)\n",
    "circuit = deutsch_jozsa(qubits, ps6_U_f.U_f(qubits))"
   ]
  }
 ],
 "metadata": {
  "kernelspec": {
   "display_name": "Python 3",
   "language": "python",
   "name": "python3"
  },
  "language_info": {
   "codemirror_mode": {
    "name": "ipython",
    "version": 3
   },
   "file_extension": ".py",
   "mimetype": "text/x-python",
   "name": "python",
   "nbconvert_exporter": "python",
   "pygments_lexer": "ipython3",
   "version": "3.7.3"
  },
  "toc": {
   "base_numbering": "1",
   "nav_menu": {},
   "number_sections": false,
   "sideBar": false,
   "skip_h1_title": false,
   "title_cell": "Contents",
   "title_sidebar": "Contents",
   "toc_cell": false,
   "toc_position": {
    "height": "125.769px",
    "left": "35px",
    "top": "152px",
    "width": "326.529px"
   },
   "toc_section_display": false,
   "toc_window_display": false
  },
  "varInspector": {
   "cols": {
    "lenName": 16,
    "lenType": 16,
    "lenVar": 40
   },
   "kernels_config": {
    "python": {
     "delete_cmd_postfix": "",
     "delete_cmd_prefix": "del ",
     "library": "var_list.py",
     "varRefreshCmd": "print(var_dic_list())"
    },
    "r": {
     "delete_cmd_postfix": ") ",
     "delete_cmd_prefix": "rm(",
     "library": "var_list.r",
     "varRefreshCmd": "cat(var_dic_list()) "
    }
   },
   "types_to_exclude": [
    "module",
    "function",
    "builtin_function_or_method",
    "instance",
    "_Feature"
   ],
   "window_display": false
  }
 },
 "nbformat": 4,
 "nbformat_minor": 2
}
